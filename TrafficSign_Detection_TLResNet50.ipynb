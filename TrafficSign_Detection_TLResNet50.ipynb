{
  "nbformat": 4,
  "nbformat_minor": 0,
  "metadata": {
    "colab": {
      "provenance": [],
      "mount_file_id": "151OkZcZqxnSLEIjkOUyLoy0jDV93-k65",
      "authorship_tag": "ABX9TyOvpMZV7EbmCamfiIdu7AmX"
    },
    "kernelspec": {
      "name": "python3",
      "display_name": "Python 3"
    },
    "language_info": {
      "name": "python"
    }
  },
  "cells": [
    {
      "cell_type": "code",
      "source": [
        "from IPython import get_ipython\n",
        "from IPython.display import display"
      ],
      "metadata": {
        "id": "goazzY12wspz"
      },
      "execution_count": null,
      "outputs": []
    },
    {
      "cell_type": "code",
      "execution_count": null,
      "metadata": {
        "id": "blILW3U74VFF"
      },
      "outputs": [],
      "source": [
        "!pip install tensorflow==2.12.0\n",
        "!pip install scikeras\n",
        "!pip install scikit-optimize"
      ]
    },
    {
      "cell_type": "code",
      "source": [
        "import tensorflow as tf\n",
        "from tensorflow import keras\n",
        "from tensorflow.keras.applications import ResNet50\n",
        "from tensorflow.keras.layers import Dense, GlobalAveragePooling2D\n",
        "from tensorflow.keras.models import Model\n",
        "from tensorflow.keras.preprocessing.image import ImageDataGenerator\n",
        "from sklearn.metrics import precision_score, recall_score, f1_score, confusion_matrix, roc_auc_score\n",
        "from skopt import BayesSearchCV\n",
        "from skopt.space import Real, Categorical, Integer\n",
        "from scikeras.wrappers import KerasClassifier"
      ],
      "metadata": {
        "id": "fRgTIPAOwtO0"
      },
      "execution_count": null,
      "outputs": []
    },
    {
      "cell_type": "code",
      "source": [
        "! mkdir ~/.kaggle"
      ],
      "metadata": {
        "id": "bRoOSFUiwyWm"
      },
      "execution_count": null,
      "outputs": []
    },
    {
      "cell_type": "code",
      "source": [
        "!cp /content/drive/MyDrive/CollabData/kaggle_API/kaggle.json ~/.kaggle/kaggle.json"
      ],
      "metadata": {
        "id": "TYmS562sw4zO"
      },
      "execution_count": null,
      "outputs": []
    },
    {
      "cell_type": "code",
      "source": [
        "! chmod 600 ~/.kaggle/kaggle.json"
      ],
      "metadata": {
        "id": "O2dSGsCgw7Dq"
      },
      "execution_count": null,
      "outputs": []
    },
    {
      "cell_type": "code",
      "source": [
        "! kaggle datasets download cakrulgaming/indonesia-traffic-sign"
      ],
      "metadata": {
        "id": "5Ys_RGT4w8ww"
      },
      "execution_count": null,
      "outputs": []
    },
    {
      "cell_type": "code",
      "source": [
        "! unzip indonesia-traffic-sign.zip"
      ],
      "metadata": {
        "id": "NYlMaQD9w-tK"
      },
      "execution_count": null,
      "outputs": []
    },
    {
      "cell_type": "code",
      "source": [
        "train_datagen = ImageDataGenerator(\n",
        "    rescale=1./255,\n",
        "    shear_range=0.2,\n",
        "    zoom_range=0.2,\n",
        "    horizontal_flip=True\n",
        ")\n",
        "\n",
        "test_datagen = ImageDataGenerator(rescale=1./255)\n",
        "\n",
        "train_generator = train_datagen.flow_from_directory(\n",
        "    'train',\n",
        "    target_size=(224, 224),\n",
        "    batch_size=32,\n",
        "    class_mode='categorical'\n",
        ")\n",
        "\n",
        "test_generator = test_datagen.flow_from_directory(\n",
        "    'test',\n",
        "    target_size=(224, 224),\n",
        "    batch_size=32,\n",
        "    class_mode='categorical'\n",
        ")"
      ],
      "metadata": {
        "id": "eTKZreqnxAX6"
      },
      "execution_count": null,
      "outputs": []
    },
    {
      "cell_type": "code",
      "source": [
        "def create_model(learning_rate=0.001, dropout_rate=0.5):\n",
        "    base_model = ResNet50(weights='imagenet', include_top=False)\n",
        "    x = base_model.output\n",
        "    x = GlobalAveragePooling2D()(x)\n",
        "    x = Dense(1024, activation='relu')(x) # Feature engineering\n",
        "    x = tf.keras.layers.Dropout(dropout_rate)(x) # Regularization\n",
        "    predictions = Dense(num_classes, activation='softmax')(x) # num_classes is the number of traffic sign classes\n",
        "    model = Model(inputs=base_model.input, outputs=predictions)\n",
        "\n",
        "    # Fine-tuning: Unfreeze some layers for training\n",
        "    for layer in base_model.layers[-10:]:\n",
        "        layer.trainable = True\n",
        "\n",
        "    model.compile(optimizer=tf.keras.optimizers.Adam(learning_rate=learning_rate),\n",
        "                  loss='categorical_crossentropy',\n",
        "                  metrics=['accuracy'])\n",
        "    return model"
      ],
      "metadata": {
        "id": "U0cptEIMxIuo"
      },
      "execution_count": null,
      "outputs": []
    },
    {
      "cell_type": "code",
      "source": [
        "model = KerasClassifier(model=create_model, verbose=0)\n",
        "search_space = {\n",
        "    'learning_rate': Real(1e-5, 1e-2, prior='log-uniform'),\n",
        "    'dropout_rate': Real(0.2, 0.8),\n",
        "    'batch_size': Integer(16, 64)\n",
        "}\n",
        "\n",
        "opt = BayesSearchCV(\n",
        "    model,\n",
        "    search_space,\n",
        "    n_iter=32, # Number of iterations\n",
        "    cv=3, # Number of cross-validation folds\n",
        "    n_jobs=-1 # Use all available cores\n",
        ")\n",
        "\n",
        "opt.fit(train_generator)"
      ],
      "metadata": {
        "id": "GohfUthbxL6k"
      },
      "execution_count": null,
      "outputs": []
    },
    {
      "cell_type": "code",
      "source": [
        "best_model = opt.best_estimator_\n",
        "history = best_model.fit(train_generator, epochs=10)"
      ],
      "metadata": {
        "id": "1Pc2UmH7xUGF"
      },
      "execution_count": null,
      "outputs": []
    },
    {
      "cell_type": "code",
      "source": [
        "y_pred = best_model.predict(test_generator)\n",
        "y_true = test_generator.classes\n",
        "\n",
        "#Calculate metrics\n",
        "precision = precision_score(y_true, y_pred, average='weighted')\n",
        "recall = recall_score(y_true, y_pred, average='weighted')\n",
        "f1 = f1_score(y_true, y_pred, average='weighted')\n",
        "cm = confusion_matrix(y_true, y_pred)\n",
        "auc = roc_auc_score(y_true, y_pred, multi_class='ovr')\n",
        "\n",
        "#Print metrics - skipped to avoid execution\n",
        "print(f\"Precision: {precision}\")\n",
        "print(f\"Recall: {recall}\")\n",
        "print(f\"F1-Score: {f1}\")\n",
        "print(f\"Confusion Matrix:\\n{cm}\")\n",
        "print(f\"AUC: {auc}\")"
      ],
      "metadata": {
        "id": "kFfjFePJxZk0"
      },
      "execution_count": null,
      "outputs": []
    },
    {
      "cell_type": "code",
      "source": [
        "class_weights = compute_class_weight('balanced', classes=np.unique(train_generator.classes), y=train_generator.classes)\n",
        "best_model.fit(train_generator, epochs=10, class_weight=class_weights)"
      ],
      "metadata": {
        "id": "XPZ0qg94xdwj"
      },
      "execution_count": null,
      "outputs": []
    }
  ]
}
